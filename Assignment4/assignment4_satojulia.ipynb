{
 "cells": [
  {
   "cell_type": "markdown",
   "id": "2c5a3c7c",
   "metadata": {},
   "source": [
    "## 課題1\n",
    "以下の指示に従って、```Sphere```というクラスを作成しなさい。\n",
    "\n",
    "- インスタンス化時に```radius```という値を受け取る\n",
    "- ```surface_area```というメソッドで表面積を計算する\n",
    "\n",
    "$$S = 4 \\pi r^2 $$\n",
    "\n",
    "- ```volume```というメソッドで体積を計算する\n",
    "\n",
    "\n",
    "$$V = \\frac{4}{3} \\pi r^3 $$"
   ]
  },
  {
   "cell_type": "code",
   "execution_count": 21,
   "id": "de6694f8",
   "metadata": {},
   "outputs": [],
   "source": [
    "class Sphere():\n",
    "    def __init__(self, radius):\n",
    "        self.radius = radius\n",
    "\n",
    "    def surface_area(self):\n",
    "        print(\"表面積は\", 4 * 3.141592 * self.radius * self.radius)\n",
    "    \n",
    "    def volume(self):\n",
    "        print(\"体積は\", 4 / 3 * 3.141592 * self.radius * self.radius * self.radius)"
   ]
  },
  {
   "cell_type": "code",
   "execution_count": 22,
   "id": "475ef170",
   "metadata": {},
   "outputs": [
    {
     "name": "stdout",
     "output_type": "stream",
     "text": [
      "表面積は 12.566368\n",
      "体積は 4.188789333333333\n"
     ]
    }
   ],
   "source": [
    "# テスト用のコード\n",
    "s = Sphere(1)\n",
    "s.surface_area()\n",
    "s.volume()\n"
   ]
  },
  {
   "cell_type": "code",
   "execution_count": null,
   "id": "6953778f",
   "metadata": {},
   "outputs": [],
   "source": []
  }
 ],
 "metadata": {
  "kernelspec": {
   "display_name": "chss",
   "language": "python",
   "name": "python3"
  },
  "language_info": {
   "codemirror_mode": {
    "name": "ipython",
    "version": 3
   },
   "file_extension": ".py",
   "mimetype": "text/x-python",
   "name": "python",
   "nbconvert_exporter": "python",
   "pygments_lexer": "ipython3",
   "version": "3.10.16"
  }
 },
 "nbformat": 4,
 "nbformat_minor": 5
}
